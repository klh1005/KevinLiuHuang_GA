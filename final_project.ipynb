{
 "cells": [
  {
   "cell_type": "code",
   "execution_count": 25,
   "metadata": {
    "collapsed": true
   },
   "outputs": [],
   "source": [
    "#initial package upload\n",
    "from sklearn import datasets\n",
    "from sklearn import metrics\n",
    "import pandas as pd\n",
    "import numpy as np\n",
    "import statsmodels.formula.api as smf\n",
    "\n",
    "import matplotlib.pyplot as plt\n",
    "%matplotlib inline"
   ]
  },
  {
   "cell_type": "code",
   "execution_count": 4,
   "metadata": {},
   "outputs": [],
   "source": [
    "#add in the raw data\n",
    "data = pd.read_csv(\"./mydata.csv\")\n",
    "\n",
    "#cleaning the data\n",
    "del data['Unnamed: 0']\n",
    "del data['mean15']\n",
    "del data['median15']\n",
    "del data['urban_f']\n",
    "del data['Ethnicity']\n",
    "del data['Total_deat']\n",
    "\n",
    "data.columns = ['Report_ID','Date','Monthcode','Incident_Type',\n",
    "                    'Coal_Wound','Coal_KIA', 'Iraq_Wound','Iraq_KIA',\n",
    "                    'Civ_Wound','Civ_KIA', 'Enemy_Wound', 'Enemy_KIA',\n",
    "                    'Enemy_Det','Latitude','Longitude','urban_ID',\n",
    "                    'urban_ind','Shia','Sunni','Christian', 'Turcoman', \n",
    "                    'Mixed_SuSh','Town', 'Province','pop_density','Am_YES',\n",
    "                    'Am_NO','IR_right','IR_wrong','Am_poll','IR_poll','civ_cas',\n",
    "                    'coal_cas','Iraqi_cas','enem_cas']\n"
   ]
  },
  {
   "cell_type": "code",
   "execution_count": 5,
   "metadata": {},
   "outputs": [
    {
     "data": {
      "text/plain": [
       "['Report_ID',\n",
       " 'Date',\n",
       " 'Monthcode',\n",
       " 'Incident_Type',\n",
       " 'Coal_Wound',\n",
       " 'Coal_KIA',\n",
       " 'Iraq_Wound',\n",
       " 'Iraq_KIA',\n",
       " 'Civ_Wound',\n",
       " 'Civ_KIA',\n",
       " 'Enemy_Wound',\n",
       " 'Enemy_KIA',\n",
       " 'Enemy_Det',\n",
       " 'Latitude',\n",
       " 'Longitude',\n",
       " 'urban_ID',\n",
       " 'urban_ind',\n",
       " 'Shia',\n",
       " 'Sunni',\n",
       " 'Christian',\n",
       " 'Turcoman',\n",
       " 'Mixed_SuSh',\n",
       " 'Town',\n",
       " 'Province',\n",
       " 'pop_density',\n",
       " 'Am_YES',\n",
       " 'Am_NO',\n",
       " 'IR_right',\n",
       " 'IR_wrong',\n",
       " 'Am_poll',\n",
       " 'IR_poll',\n",
       " 'civ_cas',\n",
       " 'coal_cas',\n",
       " 'Iraqi_cas',\n",
       " 'enem_cas']"
      ]
     },
     "execution_count": 5,
     "metadata": {},
     "output_type": "execute_result"
    }
   ],
   "source": [
    "list(data.columns.values)\n"
   ]
  },
  {
   "cell_type": "code",
   "execution_count": 6,
   "metadata": {},
   "outputs": [
    {
     "data": {
      "text/plain": [
       "34    982\n",
       "33    884\n",
       "36    765\n",
       "32    745\n",
       "41    715\n",
       "37    666\n",
       "35    661\n",
       "43    659\n",
       "42    651\n",
       "38    636\n",
       "40    609\n",
       "39    599\n",
       "30    479\n",
       "44    470\n",
       "31    451\n",
       "46    422\n",
       "45    402\n",
       "29    388\n",
       "52    374\n",
       "51    365\n",
       "28    330\n",
       "8     310\n",
       "48    296\n",
       "11    292\n",
       "18    291\n",
       "13    288\n",
       "22    286\n",
       "47    279\n",
       "53    273\n",
       "17    273\n",
       "     ... \n",
       "26    219\n",
       "10    214\n",
       "14    210\n",
       "9     209\n",
       "56    205\n",
       "12    201\n",
       "25    201\n",
       "54    200\n",
       "55    197\n",
       "15    193\n",
       "57    190\n",
       "6     188\n",
       "58    160\n",
       "7     150\n",
       "59    125\n",
       "60    123\n",
       "61    119\n",
       "69    117\n",
       "3     111\n",
       "66    106\n",
       "65    106\n",
       "68    103\n",
       "64     96\n",
       "67     94\n",
       "62     92\n",
       "1      82\n",
       "70     81\n",
       "2      78\n",
       "72     70\n",
       "71     50\n",
       "Name: Monthcode, Length: 70, dtype: int64"
      ]
     },
     "execution_count": 6,
     "metadata": {},
     "output_type": "execute_result"
    }
   ],
   "source": [
    "#how many observations?\n",
    "data['Monthcode'].value_counts()"
   ]
  },
  {
   "cell_type": "code",
   "execution_count": 9,
   "metadata": {},
   "outputs": [
    {
     "name": "stdout",
     "output_type": "stream",
     "text": [
      "Report_ID        0\n",
      "Date             0\n",
      "Monthcode        0\n",
      "Incident_Type    0\n",
      "Coal_Wound       0\n",
      "Coal_KIA         0\n",
      "Iraq_Wound       0\n",
      "Iraq_KIA         0\n",
      "Civ_Wound        0\n",
      "Civ_KIA          0\n",
      "Enemy_Wound      0\n",
      "Enemy_KIA        0\n",
      "Enemy_Det        0\n",
      "Latitude         0\n",
      "Longitude        0\n",
      "urban_ID         0\n",
      "urban_ind        0\n",
      "Shia             0\n",
      "Sunni            0\n",
      "Christian        0\n",
      "Turcoman         0\n",
      "Mixed_SuSh       0\n",
      "Town             0\n",
      "Province         0\n",
      "pop_density      0\n",
      "Am_YES           0\n",
      "Am_NO            0\n",
      "IR_right         0\n",
      "IR_wrong         0\n",
      "Am_poll          0\n",
      "IR_poll          0\n",
      "civ_cas          0\n",
      "coal_cas         0\n",
      "Iraqi_cas        0\n",
      "enem_cas         0\n",
      "dtype: int64\n"
     ]
    }
   ],
   "source": [
    "#missing values check\n",
    "print data.isnull().sum()"
   ]
  },
  {
   "cell_type": "code",
   "execution_count": 53,
   "metadata": {},
   "outputs": [
    {
     "data": {
      "text/plain": [
       "0.6913792303049998"
      ]
     },
     "execution_count": 53,
     "metadata": {},
     "output_type": "execute_result"
    }
   ],
   "source": [
    "#what % of the attacks are urban?\n",
    "data_raw['urban_ind'].mean()"
   ]
  },
  {
   "cell_type": "code",
   "execution_count": 59,
   "metadata": {},
   "outputs": [
    {
     "data": {
      "text/plain": [
       " 9     7523\n",
       "-1     6648\n",
       " 20    2088\n",
       " 11    1684\n",
       " 10    1515\n",
       " 15     479\n",
       " 0      431\n",
       " 18     262\n",
       " 14     230\n",
       " 13     225\n",
       " 5       97\n",
       " 8       91\n",
       " 6       64\n",
       " 12      58\n",
       " 7       47\n",
       " 4       40\n",
       " 2       26\n",
       " 3       16\n",
       " 17       9\n",
       " 19       3\n",
       " 16       3\n",
       " 1        2\n",
       "Name: urban_ID, dtype: int64"
      ]
     },
     "execution_count": 59,
     "metadata": {},
     "output_type": "execute_result"
    }
   ],
   "source": [
    "data_raw['urban_ID'].value_counts()"
   ]
  },
  {
   "cell_type": "code",
   "execution_count": 22,
   "metadata": {},
   "outputs": [
    {
     "data": {
      "text/plain": [
       "0      444\n",
       "1      214\n",
       "2       75\n",
       "4       45\n",
       "3       40\n",
       "5       28\n",
       "6       19\n",
       "7       14\n",
       "8       14\n",
       "9       13\n",
       "11      10\n",
       "10       8\n",
       "15       7\n",
       "14       5\n",
       "17       4\n",
       "28       3\n",
       "22       3\n",
       "16       2\n",
       "26       2\n",
       "34       2\n",
       "23       2\n",
       "27       2\n",
       "33       2\n",
       "19       2\n",
       "32       2\n",
       "29       1\n",
       "44       1\n",
       "51       1\n",
       "50       1\n",
       "37       1\n",
       "54       1\n",
       "55       1\n",
       "70       1\n",
       "74       1\n",
       "41       1\n",
       "13       1\n",
       "36       1\n",
       "12       1\n",
       "31       1\n",
       "18       1\n",
       "20       1\n",
       "21       1\n",
       "81       1\n",
       "25       1\n",
       "108      1\n",
       "Name: civ_cas, dtype: int64"
      ]
     },
     "execution_count": 22,
     "metadata": {},
     "output_type": "execute_result"
    }
   ],
   "source": [
    "#pick out the most violent month\n",
    "data34 = data[(data.Monthcode == 34)]\n",
    "data34['civ_cas'].value_counts()"
   ]
  },
  {
   "cell_type": "code",
   "execution_count": 18,
   "metadata": {},
   "outputs": [
    {
     "data": {
      "text/plain": [
       "<matplotlib.axes._subplots.AxesSubplot at 0x1161f2d90>"
      ]
     },
     "execution_count": 18,
     "metadata": {},
     "output_type": "execute_result"
    },
    {
     "data": {
      "image/png": "[encoded data removed]",
      "text/plain": [
       "<matplotlib.figure.Figure at 0x116091410>"
      ]
     },
     "metadata": {},
     "output_type": "display_data"
    }
   ],
   "source": [
    "fig, axs = plt.subplots(1, 3, sharey=True)\n",
    "data34.plot(kind='scatter',x='enem_cas',y='civ_cas', ax=axs[0], figsize = (16,8))\n",
    "data34.plot(kind='scatter',x='coal_cas',y='civ_cas', ax=axs[1])\n",
    "data34.plot(kind='scatter',x='Iraqi_cas',y='civ_cas', ax=axs[2])"
   ]
  },
  {
   "cell_type": "code",
   "execution_count": 24,
   "metadata": {},
   "outputs": [
    {
     "name": "stderr",
     "output_type": "stream",
     "text": [
      "/Users/kevinliuhuang/anaconda/lib/python2.7/site-packages/ipykernel_launcher.py:1: UserWarning: Boolean Series key will be reindexed to match DataFrame index.\n",
      "  \"\"\"Entry point for launching an IPython kernel.\n"
     ]
    },
    {
     "data": {
      "text/plain": [
       "<matplotlib.axes._subplots.AxesSubplot at 0x11733ee10>"
      ]
     },
     "execution_count": 24,
     "metadata": {},
     "output_type": "execute_result"
    },
    {
     "data": {
      "image/png": "[encoded data removed]",
      "text/plain": [
       "<matplotlib.figure.Figure at 0x116fb8910>"
      ]
     },
     "metadata": {},
     "output_type": "display_data"
    }
   ],
   "source": [
    "data34_1 = data34[(data.civ_cas > 0)]\n",
    "fig, axs = plt.subplots(1, 3, sharey=True)\n",
    "data34_1.plot(kind='scatter',x='enem_cas',y='civ_cas', ax=axs[0], figsize = (16,8))\n",
    "data34_1.plot(kind='scatter',x='coal_cas',y='civ_cas', ax=axs[1])\n",
    "data34_1.plot(kind='scatter',x='Iraqi_cas',y='civ_cas', ax=axs[2])"
   ]
  },
  {
   "cell_type": "code",
   "execution_count": 30,
   "metadata": {},
   "outputs": [
    {
     "name": "stdout",
     "output_type": "stream",
     "text": [
      "982\n",
      "538\n"
     ]
    }
   ],
   "source": [
    "print len(data34)\n",
    "print len(data34_1)"
   ]
  },
  {
   "cell_type": "code",
   "execution_count": 43,
   "metadata": {},
   "outputs": [
    {
     "data": {
      "text/html": [
       "<table class=\"simpletable\">\n",
       "<caption>OLS Regression Results</caption>\n",
       "<tr>\n",
       "  <th>Dep. Variable:</th>         <td>civ_cas</td>     <th>  R-squared:         </th> <td>   0.025</td>\n",
       "</tr>\n",
       "<tr>\n",
       "  <th>Model:</th>                   <td>OLS</td>       <th>  Adj. R-squared:    </th> <td>   0.020</td>\n",
       "</tr>\n",
       "<tr>\n",
       "  <th>Method:</th>             <td>Least Squares</td>  <th>  F-statistic:       </th> <td>   4.613</td>\n",
       "</tr>\n",
       "<tr>\n",
       "  <th>Date:</th>             <td>Fri, 01 Dec 2017</td> <th>  Prob (F-statistic):</th>  <td>0.00338</td>\n",
       "</tr>\n",
       "<tr>\n",
       "  <th>Time:</th>                 <td>22:37:40</td>     <th>  Log-Likelihood:    </th> <td> -2018.0</td>\n",
       "</tr>\n",
       "<tr>\n",
       "  <th>No. Observations:</th>      <td>   538</td>      <th>  AIC:               </th> <td>   4044.</td>\n",
       "</tr>\n",
       "<tr>\n",
       "  <th>Df Residuals:</th>          <td>   534</td>      <th>  BIC:               </th> <td>   4061.</td>\n",
       "</tr>\n",
       "<tr>\n",
       "  <th>Df Model:</th>              <td>     3</td>      <th>                     </th>     <td> </td>   \n",
       "</tr>\n",
       "<tr>\n",
       "  <th>Covariance Type:</th>      <td>nonrobust</td>    <th>                     </th>     <td> </td>   \n",
       "</tr>\n",
       "</table>\n",
       "<table class=\"simpletable\">\n",
       "<tr>\n",
       "      <td></td>         <th>coef</th>     <th>std err</th>      <th>t</th>      <th>P>|t|</th>  <th>[0.025</th>    <th>0.975]</th>  \n",
       "</tr>\n",
       "<tr>\n",
       "  <th>Intercept</th> <td>    5.3580</td> <td>    0.476</td> <td>   11.268</td> <td> 0.000</td> <td>    4.424</td> <td>    6.292</td>\n",
       "</tr>\n",
       "<tr>\n",
       "  <th>coal_cas</th>  <td>    1.0289</td> <td>    0.552</td> <td>    1.865</td> <td> 0.063</td> <td>   -0.055</td> <td>    2.113</td>\n",
       "</tr>\n",
       "<tr>\n",
       "  <th>enem_cas</th>  <td>   -0.0628</td> <td>    0.116</td> <td>   -0.543</td> <td> 0.587</td> <td>   -0.290</td> <td>    0.164</td>\n",
       "</tr>\n",
       "<tr>\n",
       "  <th>Iraqi_cas</th> <td>    0.5466</td> <td>    0.201</td> <td>    2.724</td> <td> 0.007</td> <td>    0.152</td> <td>    0.941</td>\n",
       "</tr>\n",
       "</table>\n",
       "<table class=\"simpletable\">\n",
       "<tr>\n",
       "  <th>Omnibus:</th>       <td>551.958</td> <th>  Durbin-Watson:     </th> <td>   1.431</td> \n",
       "</tr>\n",
       "<tr>\n",
       "  <th>Prob(Omnibus):</th> <td> 0.000</td>  <th>  Jarque-Bera (JB):  </th> <td>22736.286</td>\n",
       "</tr>\n",
       "<tr>\n",
       "  <th>Skew:</th>          <td> 4.695</td>  <th>  Prob(JB):          </th> <td>    0.00</td> \n",
       "</tr>\n",
       "<tr>\n",
       "  <th>Kurtosis:</th>      <td>33.432</td>  <th>  Cond. No.          </th> <td>    4.95</td> \n",
       "</tr>\n",
       "</table>"
      ],
      "text/plain": [
       "<class 'statsmodels.iolib.summary.Summary'>\n",
       "\"\"\"\n",
       "                            OLS Regression Results                            \n",
       "==============================================================================\n",
       "Dep. Variable:                civ_cas   R-squared:                       0.025\n",
       "Model:                            OLS   Adj. R-squared:                  0.020\n",
       "Method:                 Least Squares   F-statistic:                     4.613\n",
       "Date:                Fri, 01 Dec 2017   Prob (F-statistic):            0.00338\n",
       "Time:                        22:37:40   Log-Likelihood:                -2018.0\n",
       "No. Observations:                 538   AIC:                             4044.\n",
       "Df Residuals:                     534   BIC:                             4061.\n",
       "Df Model:                           3                                         \n",
       "Covariance Type:            nonrobust                                         \n",
       "==============================================================================\n",
       "                 coef    std err          t      P>|t|      [0.025      0.975]\n",
       "------------------------------------------------------------------------------\n",
       "Intercept      5.3580      0.476     11.268      0.000       4.424       6.292\n",
       "coal_cas       1.0289      0.552      1.865      0.063      -0.055       2.113\n",
       "enem_cas      -0.0628      0.116     -0.543      0.587      -0.290       0.164\n",
       "Iraqi_cas      0.5466      0.201      2.724      0.007       0.152       0.941\n",
       "==============================================================================\n",
       "Omnibus:                      551.958   Durbin-Watson:                   1.431\n",
       "Prob(Omnibus):                  0.000   Jarque-Bera (JB):            22736.286\n",
       "Skew:                           4.695   Prob(JB):                         0.00\n",
       "Kurtosis:                      33.432   Cond. No.                         4.95\n",
       "==============================================================================\n",
       "\n",
       "Warnings:\n",
       "[1] Standard Errors assume that the covariance matrix of the errors is correctly specified.\n",
       "\"\"\""
      ]
     },
     "execution_count": 43,
     "metadata": {},
     "output_type": "execute_result"
    }
   ],
   "source": [
    "lm = smf.ols(formula='civ_cas ~ coal_cas + enem_cas + Iraqi_cas', data=data34_1).fit()\n",
    "lm.summary()"
   ]
  },
  {
   "cell_type": "code",
   "execution_count": 44,
   "metadata": {},
   "outputs": [
    {
     "data": {
      "text/html": [
       "<table class=\"simpletable\">\n",
       "<caption>OLS Regression Results</caption>\n",
       "<tr>\n",
       "  <th>Dep. Variable:</th>         <td>civ_cas</td>     <th>  R-squared:         </th> <td>   0.026</td>\n",
       "</tr>\n",
       "<tr>\n",
       "  <th>Model:</th>                   <td>OLS</td>       <th>  Adj. R-squared:    </th> <td>   0.021</td>\n",
       "</tr>\n",
       "<tr>\n",
       "  <th>Method:</th>             <td>Least Squares</td>  <th>  F-statistic:       </th> <td>   4.811</td>\n",
       "</tr>\n",
       "<tr>\n",
       "  <th>Date:</th>             <td>Fri, 01 Dec 2017</td> <th>  Prob (F-statistic):</th>  <td>0.00258</td>\n",
       "</tr>\n",
       "<tr>\n",
       "  <th>Time:</th>                 <td>22:37:54</td>     <th>  Log-Likelihood:    </th> <td> -2017.7</td>\n",
       "</tr>\n",
       "<tr>\n",
       "  <th>No. Observations:</th>      <td>   538</td>      <th>  AIC:               </th> <td>   4043.</td>\n",
       "</tr>\n",
       "<tr>\n",
       "  <th>Df Residuals:</th>          <td>   534</td>      <th>  BIC:               </th> <td>   4061.</td>\n",
       "</tr>\n",
       "<tr>\n",
       "  <th>Df Model:</th>              <td>     3</td>      <th>                     </th>     <td> </td>   \n",
       "</tr>\n",
       "<tr>\n",
       "  <th>Covariance Type:</th>      <td>nonrobust</td>    <th>                     </th>     <td> </td>   \n",
       "</tr>\n",
       "</table>\n",
       "<table class=\"simpletable\">\n",
       "<tr>\n",
       "        <td></td>          <th>coef</th>     <th>std err</th>      <th>t</th>      <th>P>|t|</th>  <th>[0.025</th>    <th>0.975]</th>  \n",
       "</tr>\n",
       "<tr>\n",
       "  <th>Intercept</th>    <td>    3.1331</td> <td>    1.237</td> <td>    2.533</td> <td> 0.012</td> <td>    0.704</td> <td>    5.563</td>\n",
       "</tr>\n",
       "<tr>\n",
       "  <th>coal_cas ^ 2</th> <td>    1.1313</td> <td>    0.562</td> <td>    2.015</td> <td> 0.044</td> <td>    0.028</td> <td>    2.234</td>\n",
       "</tr>\n",
       "<tr>\n",
       "  <th>enem_cas</th>     <td>   -0.0644</td> <td>    0.115</td> <td>   -0.558</td> <td> 0.577</td> <td>   -0.291</td> <td>    0.162</td>\n",
       "</tr>\n",
       "<tr>\n",
       "  <th>Iraqi_cas</th>    <td>    0.5369</td> <td>    0.201</td> <td>    2.672</td> <td> 0.008</td> <td>    0.142</td> <td>    0.932</td>\n",
       "</tr>\n",
       "</table>\n",
       "<table class=\"simpletable\">\n",
       "<tr>\n",
       "  <th>Omnibus:</th>       <td>551.447</td> <th>  Durbin-Watson:     </th> <td>   1.431</td> \n",
       "</tr>\n",
       "<tr>\n",
       "  <th>Prob(Omnibus):</th> <td> 0.000</td>  <th>  Jarque-Bera (JB):  </th> <td>22676.564</td>\n",
       "</tr>\n",
       "<tr>\n",
       "  <th>Skew:</th>          <td> 4.688</td>  <th>  Prob(JB):          </th> <td>    0.00</td> \n",
       "</tr>\n",
       "<tr>\n",
       "  <th>Kurtosis:</th>      <td>33.392</td>  <th>  Cond. No.          </th> <td>    12.1</td> \n",
       "</tr>\n",
       "</table>"
      ],
      "text/plain": [
       "<class 'statsmodels.iolib.summary.Summary'>\n",
       "\"\"\"\n",
       "                            OLS Regression Results                            \n",
       "==============================================================================\n",
       "Dep. Variable:                civ_cas   R-squared:                       0.026\n",
       "Model:                            OLS   Adj. R-squared:                  0.021\n",
       "Method:                 Least Squares   F-statistic:                     4.811\n",
       "Date:                Fri, 01 Dec 2017   Prob (F-statistic):            0.00258\n",
       "Time:                        22:37:54   Log-Likelihood:                -2017.7\n",
       "No. Observations:                 538   AIC:                             4043.\n",
       "Df Residuals:                     534   BIC:                             4061.\n",
       "Df Model:                           3                                         \n",
       "Covariance Type:            nonrobust                                         \n",
       "================================================================================\n",
       "                   coef    std err          t      P>|t|      [0.025      0.975]\n",
       "--------------------------------------------------------------------------------\n",
       "Intercept        3.1331      1.237      2.533      0.012       0.704       5.563\n",
       "coal_cas ^ 2     1.1313      0.562      2.015      0.044       0.028       2.234\n",
       "enem_cas        -0.0644      0.115     -0.558      0.577      -0.291       0.162\n",
       "Iraqi_cas        0.5369      0.201      2.672      0.008       0.142       0.932\n",
       "==============================================================================\n",
       "Omnibus:                      551.447   Durbin-Watson:                   1.431\n",
       "Prob(Omnibus):                  0.000   Jarque-Bera (JB):            22676.564\n",
       "Skew:                           4.688   Prob(JB):                         0.00\n",
       "Kurtosis:                      33.392   Cond. No.                         12.1\n",
       "==============================================================================\n",
       "\n",
       "Warnings:\n",
       "[1] Standard Errors assume that the covariance matrix of the errors is correctly specified.\n",
       "\"\"\""
      ]
     },
     "execution_count": 44,
     "metadata": {},
     "output_type": "execute_result"
    }
   ],
   "source": [
    "#Attempt transformations\n",
    "lm = smf.ols(formula='civ_cas ~ coal_cas^2 + enem_cas + Iraqi_cas', data=data34_1).fit()\n",
    "lm.summary()"
   ]
  },
  {
   "cell_type": "code",
   "execution_count": null,
   "metadata": {
    "collapsed": true
   },
   "outputs": [],
   "source": []
  }
 ],
 "metadata": {
  "kernelspec": {
   "display_name": "Python 2",
   "language": "python",
   "name": "python2"
  }
 },
 "nbformat": 4,
 "nbformat_minor": 2
}
