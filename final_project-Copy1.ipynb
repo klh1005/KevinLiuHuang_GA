{
 "cells": [
  {
   "cell_type": "code",
   "execution_count": 61,
   "metadata": {
    "collapsed": true
   },
   "outputs": [],
   "source": [
    "#initial package upload\n",
    "from sklearn import datasets\n",
    "from sklearn import metrics\n",
    "import pandas as pd\n",
    "import numpy as np\n",
    "\n",
    "import matplotlib.pyplot as plt\n",
    "%matplotlib inline"
   ]
  },
  {
   "cell_type": "code",
   "execution_count": 75,
   "metadata": {},
   "outputs": [
    {
     "data": {
      "text/plain": [
       "0        None\n",
       "1        None\n",
       "2        None\n",
       "3        None\n",
       "4        None\n",
       "5        None\n",
       "6        None\n",
       "7        None\n",
       "8        None\n",
       "9        None\n",
       "10       None\n",
       "11       None\n",
       "12       None\n",
       "13       None\n",
       "14       None\n",
       "15       None\n",
       "16       None\n",
       "17       None\n",
       "18       None\n",
       "19       None\n",
       "20       None\n",
       "21       None\n",
       "22       None\n",
       "23       None\n",
       "24       None\n",
       "25       None\n",
       "26       None\n",
       "27       None\n",
       "28       None\n",
       "29       None\n",
       "         ... \n",
       "21511    None\n",
       "21512    None\n",
       "21513    None\n",
       "21514    None\n",
       "21515    None\n",
       "21516    None\n",
       "21517    None\n",
       "21518    None\n",
       "21519    None\n",
       "21520    None\n",
       "21521    None\n",
       "21522    None\n",
       "21523    None\n",
       "21524    None\n",
       "21525    None\n",
       "21526    None\n",
       "21527    None\n",
       "21528    None\n",
       "21529    None\n",
       "21530    None\n",
       "21531    None\n",
       "21532    None\n",
       "21533    None\n",
       "21534    None\n",
       "21535    None\n",
       "21536    None\n",
       "21537    None\n",
       "21538    None\n",
       "21539    None\n",
       "21540    None\n",
       "Length: 21541, dtype: object"
      ]
     },
     "execution_count": 75,
     "metadata": {},
     "output_type": "execute_result"
    }
   ],
   "source": [
    "#add in the raw data\n",
    "data = pd.read_csv(\"./mydata.csv\")\n",
    "\n",
    "#cleaning the data\n",
    "del data['Unnamed: 0']\n",
    "del data['mean15']\n",
    "del data['median15']\n",
    "del data['urban_f']\n",
    "del data['Ethnicity']\n",
    "del data['Total_deat']\n",
    "\n",
    "data.columns = ['Report_ID','Date','Monthcode','Incident_Type',\n",
    "                    'Coal_Wound','Coal_KIA', 'Iraq_Wound','Iraq_KIA',\n",
    "                    'Civ_Wound','Civ_KIA', 'Enemy_Wound', 'Enemy_KIA',\n",
    "                    'Enemy_Det','Latitude','Longitude','urban_ID',\n",
    "                    'urban_ind','Shia','Sunni','Christian', 'Turcoman', \n",
    "                    'Mixed_SuSh','Town', 'Province','pop_density','Am_YES',\n",
    "                    'Am_NO','IR_right','IR_wrong','Am_poll','IR_poll','civ_cas',\n",
    "                    'coal_cas','Iraqi_cas']\n",
    "\n",
    "def sum_enemies (x):\n",
    "    x['Enemy_Wound'] + x['Enemy_KIA'] + x['Enemy_Det']\n",
    "    \n",
    "data.apply (lambda x: sum_enemies (x),axis=1)"
   ]
  },
  {
   "cell_type": "code",
   "execution_count": 63,
   "metadata": {},
   "outputs": [
    {
     "data": {
      "text/plain": [
       "['Report_ID',\n",
       " 'Date',\n",
       " 'Monthcode',\n",
       " 'Incident_Type',\n",
       " 'Coal_Wound',\n",
       " 'Coal_KIA',\n",
       " 'Iraq_Wound',\n",
       " 'Iraq_KIA',\n",
       " 'Civ_Wound',\n",
       " 'Civ_KIA',\n",
       " 'Enemy_Wound',\n",
       " 'Enemy_KIA',\n",
       " 'Enemy_Det',\n",
       " 'Latitude',\n",
       " 'Longitude',\n",
       " 'urban_ID',\n",
       " 'urban_ind',\n",
       " 'Shia',\n",
       " 'Sunni',\n",
       " 'Christian',\n",
       " 'Turcoman',\n",
       " 'Mixed_SuSh',\n",
       " 'Town',\n",
       " 'Province',\n",
       " 'pop_density',\n",
       " 'Am_YES',\n",
       " 'Am_NO',\n",
       " 'IR_right',\n",
       " 'IR_wrong',\n",
       " 'Am_poll',\n",
       " 'IR_poll',\n",
       " 'civ_cas',\n",
       " 'coal_cas',\n",
       " 'Iraqi_cas']"
      ]
     },
     "execution_count": 63,
     "metadata": {},
     "output_type": "execute_result"
    }
   ],
   "source": [
    "list(data.columns.values)\n"
   ]
  },
  {
   "cell_type": "code",
   "execution_count": 74,
   "metadata": {},
   "outputs": [
    {
     "data": {
      "text/plain": [
       "34    982\n",
       "33    884\n",
       "36    765\n",
       "32    745\n",
       "41    715\n",
       "37    666\n",
       "35    661\n",
       "43    659\n",
       "42    651\n",
       "38    636\n",
       "40    609\n",
       "39    599\n",
       "30    479\n",
       "44    470\n",
       "31    451\n",
       "46    422\n",
       "45    402\n",
       "29    388\n",
       "52    374\n",
       "51    365\n",
       "28    330\n",
       "8     310\n",
       "48    296\n",
       "11    292\n",
       "18    291\n",
       "13    288\n",
       "22    286\n",
       "47    279\n",
       "53    273\n",
       "17    273\n",
       "     ... \n",
       "26    219\n",
       "10    214\n",
       "14    210\n",
       "9     209\n",
       "56    205\n",
       "12    201\n",
       "25    201\n",
       "54    200\n",
       "55    197\n",
       "15    193\n",
       "57    190\n",
       "6     188\n",
       "58    160\n",
       "7     150\n",
       "59    125\n",
       "60    123\n",
       "61    119\n",
       "69    117\n",
       "3     111\n",
       "66    106\n",
       "65    106\n",
       "68    103\n",
       "64     96\n",
       "67     94\n",
       "62     92\n",
       "1      82\n",
       "70     81\n",
       "2      78\n",
       "72     70\n",
       "71     50\n",
       "Name: Monthcode, Length: 70, dtype: int64"
      ]
     },
     "execution_count": 74,
     "metadata": {},
     "output_type": "execute_result"
    }
   ],
   "source": [
    "#how many observations?\n",
    "data['Monthcode'].value_counts()"
   ]
  },
  {
   "cell_type": "code",
   "execution_count": 73,
   "metadata": {},
   "outputs": [
    {
     "data": {
      "text/plain": [
       "0      10983\n",
       "1       3560\n",
       "2       1835\n",
       "3       1051\n",
       "4        725\n",
       "5        506\n",
       "6        304\n",
       "7        263\n",
       "8        246\n",
       "10       172\n",
       "9        161\n",
       "11       127\n",
       "12       107\n",
       "14       103\n",
       "16        83\n",
       "13        82\n",
       "15        77\n",
       "17        74\n",
       "18        58\n",
       "19        52\n",
       "21        50\n",
       "20        50\n",
       "25        48\n",
       "27        43\n",
       "23        40\n",
       "22        39\n",
       "28        30\n",
       "24        28\n",
       "26        28\n",
       "40        26\n",
       "       ...  \n",
       "158        1\n",
       "206        1\n",
       "270        1\n",
       "734        1\n",
       "143        1\n",
       "175        1\n",
       "220        1\n",
       "156        1\n",
       "108        1\n",
       "155        1\n",
       "356        1\n",
       "420        1\n",
       "117        1\n",
       "133        1\n",
       "181        1\n",
       "213        1\n",
       "150        1\n",
       "166        1\n",
       "87         1\n",
       "223        1\n",
       "151        1\n",
       "199        1\n",
       "231        1\n",
       "247        1\n",
       "88         1\n",
       "122        1\n",
       "154        1\n",
       "346        1\n",
       "75         1\n",
       "103        1\n",
       "Name: civ_cas, Length: 168, dtype: int64"
      ]
     },
     "execution_count": 73,
     "metadata": {},
     "output_type": "execute_result"
    }
   ],
   "source": [
    "#pick out the most violent month\n",
    "data34 = data[(data.Monthcode == 34)]\n",
    "data['civ_cas'].value_counts()"
   ]
  },
  {
   "cell_type": "code",
   "execution_count": 50,
   "metadata": {},
   "outputs": [
    {
     "name": "stdout",
     "output_type": "stream",
     "text": [
      "Report_ID        0\n",
      "Date             0\n",
      "Monthcode        0\n",
      "Incident_Type    0\n",
      "Coal_Wound       0\n",
      "Coal_KIA         0\n",
      "Iraq_Wound       0\n",
      "Iraq_KIA         0\n",
      "Civ_Wound        0\n",
      "Civ_KIA          0\n",
      "Enemy_Wound      0\n",
      "Enemy_KIA        0\n",
      "Enemy_Det        0\n",
      "Latitude         0\n",
      "Longitude        0\n",
      "urban_ID         0\n",
      "urban_ind        0\n",
      "Shia             0\n",
      "Sunni            0\n",
      "Christian        0\n",
      "Turcoman         0\n",
      "Mixed_SuSh       0\n",
      "Town             0\n",
      "Province         0\n",
      "pop_density      0\n",
      "Am_YES           0\n",
      "Am_NO            0\n",
      "IR_right         0\n",
      "IR_wrong         0\n",
      "Am_poll          0\n",
      "IR_poll          0\n",
      "civ_cas          0\n",
      "coal_cas         0\n",
      "Iraqi_cas        0\n",
      "dtype: int64\n"
     ]
    }
   ],
   "source": [
    "#missing values check\n",
    "print data_raw.isnull().sum()"
   ]
  },
  {
   "cell_type": "code",
   "execution_count": 53,
   "metadata": {},
   "outputs": [
    {
     "data": {
      "text/plain": [
       "0.6913792303049998"
      ]
     },
     "execution_count": 53,
     "metadata": {},
     "output_type": "execute_result"
    }
   ],
   "source": [
    "#what % of the attacks are urban?\n",
    "data_raw['urban_ind'].mean()"
   ]
  },
  {
   "cell_type": "code",
   "execution_count": 59,
   "metadata": {},
   "outputs": [
    {
     "data": {
      "text/plain": [
       " 9     7523\n",
       "-1     6648\n",
       " 20    2088\n",
       " 11    1684\n",
       " 10    1515\n",
       " 15     479\n",
       " 0      431\n",
       " 18     262\n",
       " 14     230\n",
       " 13     225\n",
       " 5       97\n",
       " 8       91\n",
       " 6       64\n",
       " 12      58\n",
       " 7       47\n",
       " 4       40\n",
       " 2       26\n",
       " 3       16\n",
       " 17       9\n",
       " 19       3\n",
       " 16       3\n",
       " 1        2\n",
       "Name: urban_ID, dtype: int64"
      ]
     },
     "execution_count": 59,
     "metadata": {},
     "output_type": "execute_result"
    }
   ],
   "source": [
    "data_raw['urban_ID'].value_counts()"
   ]
  },
  {
   "cell_type": "code",
   "execution_count": null,
   "metadata": {
    "collapsed": true
   },
   "outputs": [],
   "source": []
  }
 ],
 "metadata": {
  "kernelspec": {
   "display_name": "Python 2",
   "language": "python",
   "name": "python2"
  },
  "language_info": {
   "codemirror_mode": {
    "name": "ipython",
    "version": 2
   },
   "file_extension": ".py",
   "mimetype": "text/x-python",
   "name": "python",
   "nbconvert_exporter": "python",
   "pygments_lexer": "ipython2",
   "version": "2.7.13"
  }
 },
 "nbformat": 4,
 "nbformat_minor": 2
}
